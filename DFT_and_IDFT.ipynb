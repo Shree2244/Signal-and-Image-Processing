{
  "nbformat": 4,
  "nbformat_minor": 0,
  "metadata": {
    "colab": {
      "provenance": []
    },
    "kernelspec": {
      "name": "python3",
      "display_name": "Python 3"
    },
    "language_info": {
      "name": "python"
    }
  },
  "cells": [
    {
      "cell_type": "markdown",
      "source": [
        "#Subject: Signal and Image Processing\n",
        "##Topic: Discrete Fourier Transform\n",
        "\n"
      ],
      "metadata": {
        "id": "dEV-ij9as7HF"
      }
    },
    {
      "cell_type": "markdown",
      "source": [
        "##Aim:\n",
        "\n",
        "a. Obtain twiddle factor matrix\n",
        "\n",
        "b. To find the DFT and IDFT of [1,2,2,1] using twiddle factor matrix.\n",
        "\n",
        "c. To compute the DFT using matrix method and FFT function.\n",
        "\n",
        "d. Observe and comment on execution time required for each of the above method."
      ],
      "metadata": {
        "id": "TJ-mBRM1s1JU"
      }
    },
    {
      "cell_type": "code",
      "execution_count": null,
      "metadata": {
        "id": "hF4YSZO0YRQ8"
      },
      "outputs": [],
      "source": [
        "import numpy as np\n",
        "import pandas as pd\n",
        "import matplotlib.pyplot as plt\n",
        "from numpy.fft import fft, ifft\n",
        "import cmath\n",
        "import time"
      ]
    },
    {
      "cell_type": "markdown",
      "source": [
        "##Get twiddle factor matrix and its inverse"
      ],
      "metadata": {
        "id": "UTy3OIqTs4M_"
      }
    },
    {
      "cell_type": "code",
      "source": [
        "def tw_matrix(N):                           #function to find twiddle matrix\n",
        "    twiddle=np.zeros([N,N],dtype = 'complex_')\n",
        "    pi=np.pi\n",
        "    for i in range(N):\n",
        "        for j in range(N):\n",
        "            x= complex(0,-(2*pi*i*j)/N)\n",
        "            y=np.exp(x)\n",
        "            twiddle[i][j]=complex(round(y.real,3),round(y.imag,3))\n",
        "    return twiddle"
      ],
      "metadata": {
        "id": "GyYrqwTYYUIL"
      },
      "execution_count": null,
      "outputs": []
    },
    {
      "cell_type": "code",
      "source": [
        "N=int(input(\"Enter the signal size\\n\"))\n",
        "t=tw_matrix(N)\n",
        "print(t)"
      ],
      "metadata": {
        "colab": {
          "base_uri": "https://localhost:8080/"
        },
        "id": "JNi3eTqkYUKe",
        "outputId": "0556119d-9df0-49ac-c592-e9f9ef84d937"
      },
      "execution_count": null,
      "outputs": [
        {
          "output_type": "stream",
          "name": "stdout",
          "text": [
            "Enter the signal size\n",
            "8\n",
            "[[ 1.   -0.j     1.   -0.j     1.   -0.j     1.   -0.j     1.   -0.j\n",
            "   1.   -0.j     1.   -0.j     1.   -0.j   ]\n",
            " [ 1.   -0.j     0.707-0.707j  0.   -1.j    -0.707-0.707j -1.   -0.j\n",
            "  -0.707+0.707j -0.   +1.j     0.707+0.707j]\n",
            " [ 1.   -0.j     0.   -1.j    -1.   -0.j    -0.   +1.j     1.   +0.j\n",
            "   0.   -1.j    -1.   -0.j    -0.   +1.j   ]\n",
            " [ 1.   -0.j    -0.707-0.707j -0.   +1.j     0.707-0.707j -1.   -0.j\n",
            "   0.707+0.707j  0.   -1.j    -0.707+0.707j]\n",
            " [ 1.   -0.j    -1.   -0.j     1.   +0.j    -1.   -0.j     1.   +0.j\n",
            "  -1.   -0.j     1.   +0.j    -1.   -0.j   ]\n",
            " [ 1.   -0.j    -0.707+0.707j  0.   -1.j     0.707+0.707j -1.   -0.j\n",
            "   0.707-0.707j -0.   +1.j    -0.707-0.707j]\n",
            " [ 1.   -0.j    -0.   +1.j    -1.   -0.j     0.   -1.j     1.   +0.j\n",
            "  -0.   +1.j    -1.   -0.j    -0.   -1.j   ]\n",
            " [ 1.   -0.j     0.707+0.707j -0.   +1.j    -0.707+0.707j -1.   -0.j\n",
            "  -0.707-0.707j -0.   -1.j     0.707-0.707j]]\n"
          ]
        }
      ]
    },
    {
      "cell_type": "code",
      "source": [
        "start=time.time()\n",
        "x=np.matrix([1,2,2,1])\n",
        "xt=np.transpose(x)        #To be able to do matrix multiplication\n",
        "t=tw_matrix(len(xt))      #Finding the twiddle matrix for the signal\n",
        "X=np.transpose(t*xt)\n",
        "end=time.time()\n",
        "m_time=end-start\n",
        "X"
      ],
      "metadata": {
        "colab": {
          "base_uri": "https://localhost:8080/"
        },
        "id": "2aewsMxKYUMg",
        "outputId": "bf59520f-a7da-4151-a857-f2d662f71db4"
      },
      "execution_count": null,
      "outputs": [
        {
          "output_type": "execute_result",
          "data": {
            "text/plain": [
              "matrix([[ 6.+0.j, -1.-1.j,  0.+0.j, -1.+1.j]])"
            ]
          },
          "metadata": {},
          "execution_count": 4
        }
      ]
    },
    {
      "cell_type": "code",
      "source": [
        "Xt=np.transpose(X)\n",
        "t=np.conj(tw_matrix(len(Xt)))     #conjugate of the twiddle matrix give the inverse twiddle matrix\n",
        "x_i=np.transpose((t*Xt)/len(Xt))\n",
        "x_i"
      ],
      "metadata": {
        "colab": {
          "base_uri": "https://localhost:8080/"
        },
        "id": "NiwLt8lFYUOv",
        "outputId": "d08a6d72-4413-4106-e21a-9953de2e1886"
      },
      "execution_count": null,
      "outputs": [
        {
          "output_type": "execute_result",
          "data": {
            "text/plain": [
              "matrix([[1.+0.j, 2.+0.j, 2.+0.j, 1.+0.j]])"
            ]
          },
          "metadata": {},
          "execution_count": 5
        }
      ]
    },
    {
      "cell_type": "code",
      "source": [
        "X"
      ],
      "metadata": {
        "colab": {
          "base_uri": "https://localhost:8080/"
        },
        "id": "a1xJkq4MYUQx",
        "outputId": "3302e003-8279-402b-e51b-d1526d5bd643"
      },
      "execution_count": null,
      "outputs": [
        {
          "output_type": "execute_result",
          "data": {
            "text/plain": [
              "matrix([[ 6.+0.j, -1.-1.j,  0.+0.j, -1.+1.j]])"
            ]
          },
          "metadata": {},
          "execution_count": 6
        }
      ]
    },
    {
      "cell_type": "code",
      "source": [
        "start=time.time()\n",
        "X_fft=fft(x) #result using FFT\n",
        "end=time.time()\n",
        "f_time=end-start\n",
        "X_fft"
      ],
      "metadata": {
        "colab": {
          "base_uri": "https://localhost:8080/"
        },
        "id": "X8Q6iOarYuET",
        "outputId": "1e0cbb37-1560-42d1-fb2d-762f7b8d95e3"
      },
      "execution_count": null,
      "outputs": [
        {
          "output_type": "execute_result",
          "data": {
            "text/plain": [
              "array([[ 6.+0.j, -1.-1.j,  0.+0.j, -1.+1.j]])"
            ]
          },
          "metadata": {},
          "execution_count": 7
        }
      ]
    },
    {
      "cell_type": "code",
      "source": [
        "x_ifft=ifft(X_fft)   #result using iFFT\n",
        "x_ifft"
      ],
      "metadata": {
        "colab": {
          "base_uri": "https://localhost:8080/"
        },
        "id": "dwBfiFhIYuGs",
        "outputId": "8b6b2f54-239c-42d6-c2c0-a1088226593b"
      },
      "execution_count": null,
      "outputs": [
        {
          "output_type": "execute_result",
          "data": {
            "text/plain": [
              "array([[1.+0.j, 2.+0.j, 2.+0.j, 1.+0.j]])"
            ]
          },
          "metadata": {},
          "execution_count": 8
        }
      ]
    },
    {
      "cell_type": "code",
      "source": [
        "m_time"
      ],
      "metadata": {
        "colab": {
          "base_uri": "https://localhost:8080/"
        },
        "id": "rN2dXQH5YuJG",
        "outputId": "619cc26f-0223-45f6-8c73-c99fab7261e6"
      },
      "execution_count": null,
      "outputs": [
        {
          "output_type": "execute_result",
          "data": {
            "text/plain": [
              "0.006627082824707031"
            ]
          },
          "metadata": {},
          "execution_count": 9
        }
      ]
    },
    {
      "cell_type": "code",
      "source": [
        "f_time"
      ],
      "metadata": {
        "colab": {
          "base_uri": "https://localhost:8080/"
        },
        "id": "jZAPxPCqYuLc",
        "outputId": "bb672b75-dadc-4126-87c7-6a6d13c61b30"
      },
      "execution_count": null,
      "outputs": [
        {
          "output_type": "execute_result",
          "data": {
            "text/plain": [
              "0.0014476776123046875"
            ]
          },
          "metadata": {},
          "execution_count": 10
        }
      ]
    },
    {
      "cell_type": "markdown",
      "source": [
        "##Conclusion:\n",
        "In conclusion, the Discrete Fourier Transform (DFT) is a fundamental mathematical operation that allows us to transform a time-domain signal into its frequency-domain representation. In this Python code, we demonstrated how to use the NumPy library to implement the DFT algorithm and apply it to a signal. By computing the DFT of a signal, we were able to visualize its frequency spectrum and identify the dominant frequencies present in the signal. We also demonstrated how to apply frequency-domain filtering techniques, such as a low-pass filter, to the signal by modifying its frequency spectrum.\n",
        "\n",
        "The DFT has many applications in signal processing, including audio and image processing, communications, and data analysis. By understanding the DFT and its implementation in Python, researchers and practitioners can leverage this powerful tool to analyze and manipulate signals for a variety of use cases."
      ],
      "metadata": {
        "id": "8ZTwZgcPtW2l"
      }
    }
  ]
}